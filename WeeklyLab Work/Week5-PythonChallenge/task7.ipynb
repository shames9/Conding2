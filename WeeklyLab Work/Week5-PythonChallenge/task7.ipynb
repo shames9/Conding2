{
 "cells": [
  {
   "cell_type": "code",
   "execution_count": 6,
   "id": "78f0c5ef",
   "metadata": {},
   "outputs": [
    {
     "name": "stdout",
     "output_type": "stream",
     "text": [
      "smart guy, you made it. the next level is [105, 110, 116, 101, 103, 114, 105, 116, 121]pe_\n"
     ]
    }
   ],
   "source": [
    "#Importing Image classes from the PIL library\n",
    "from PIL import Image\n",
    "\n",
    "#Open an image file called oxygen.png\n",
    "img = Image.open(\"oxygen.png\")\n",
    "\n",
    "#Get the width and height of the image\n",
    "width, height = img.size\n",
    "#Get the colour value of the middle row of pixels from the image and take every 7 pixels from the colour value of the middle row of pixels and store the red channel of the colour value in the gray_values list\n",
    "middle_row = [img.getpixel((x, height//2)) for x in range(width)]\n",
    "gray_values = [color[0] for color in middle_row[::7]]\n",
    "#Converts each value in the gray_values list to an ASCII character and splices it into a string\n",
    "message = \"\".join([chr(i) for i in gray_values])\n",
    "print(message)\n"
   ]
  },
  {
   "cell_type": "code",
   "execution_count": 7,
   "id": "d978d804",
   "metadata": {},
   "outputs": [
    {
     "name": "stdout",
     "output_type": "stream",
     "text": [
      "integrity\n"
     ]
    }
   ],
   "source": [
    "text = \"smart guy, you made it. the next level is [105, 110, 116, 101, 103, 114, 105, 116, 121]\"\n",
    "\n",
    "# Extracts a list from a string and converts the numbers in it to their corresponding characters\n",
    "next_url = ''.join(chr(int(c)) for c in text.split('[')[-1].split(']')[0].split(', '))\n",
    "\n",
    "print(next_url)"
   ]
  },
  {
   "cell_type": "code",
   "execution_count": null,
   "id": "61cbe1f7",
   "metadata": {},
   "outputs": [],
   "source": []
  }
 ],
 "metadata": {
  "kernelspec": {
   "display_name": "Python 3 (ipykernel)",
   "language": "python",
   "name": "python3"
  },
  "language_info": {
   "codemirror_mode": {
    "name": "ipython",
    "version": 3
   },
   "file_extension": ".py",
   "mimetype": "text/x-python",
   "name": "python",
   "nbconvert_exporter": "python",
   "pygments_lexer": "ipython3",
   "version": "3.9.16"
  }
 },
 "nbformat": 4,
 "nbformat_minor": 5
}
