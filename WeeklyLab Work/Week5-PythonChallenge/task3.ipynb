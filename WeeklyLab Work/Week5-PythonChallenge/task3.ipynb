{
 "cells": [
  {
   "cell_type": "code",
   "execution_count": 8,
   "id": "5a56cf5b",
   "metadata": {},
   "outputs": [
    {
     "name": "stdout",
     "output_type": "stream",
     "text": [
      "linkedlist\n"
     ]
    }
   ],
   "source": [
    "#Import regular expressions and web request related libraries\n",
    "import re\n",
    "import urllib.request\n",
    "\n",
    "#Define the link to the page to be requested\n",
    "url = \"http://www.pythonchallenge.com/pc/def/equality.html\"\n",
    "\n",
    "#Send a request to fetch the page content and decode it into a string in utf-8 encoding\n",
    "response = urllib.request.urlopen(url)\n",
    "data = response.read().decode(\"utf-8\")\n",
    "result = \"\"\n",
    "\n",
    "#Define the match pattern and use regular expressions to extract the target string from the page content\n",
    "pattern = r\"[^A-Z][A-Z]{3}([a-z])[A-Z]{3}[^A-Z]\"\n",
    "matches = re.findall(pattern, data)\n",
    "\n",
    "for match in matches:\n",
    "    result += match\n",
    "\n",
    "print(result)"
   ]
  },
  {
   "cell_type": "code",
   "execution_count": null,
   "id": "d2dce1e2",
   "metadata": {},
   "outputs": [],
   "source": []
  }
 ],
 "metadata": {
  "kernelspec": {
   "display_name": "Python 3 (ipykernel)",
   "language": "python",
   "name": "python3"
  },
  "language_info": {
   "codemirror_mode": {
    "name": "ipython",
    "version": 3
   },
   "file_extension": ".py",
   "mimetype": "text/x-python",
   "name": "python",
   "nbconvert_exporter": "python",
   "pygments_lexer": "ipython3",
   "version": "3.9.16"
  }
 },
 "nbformat": 4,
 "nbformat_minor": 5
}
